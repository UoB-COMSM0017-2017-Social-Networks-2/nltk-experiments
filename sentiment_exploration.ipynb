{
 "cells": [
  {
   "cell_type": "markdown",
   "metadata": {},
   "source": [
    "# Sentiment Evaluation"
   ]
  },
  {
   "cell_type": "markdown",
   "metadata": {},
   "source": [
    "The purpose of this notebook is to explore the implementation of the Vader lexicon for Twitter sentiment analysis.\n",
    "\n",
    "It will be composed broadly of two tests:\n",
    "\n",
    "1) First, explore the data set provided for a review of the broad sentiment across 'topics'.\n",
    "\n",
    "2) Then, assess the accuracy of the sentiment scores against a manual interpretation."
   ]
  },
  {
   "cell_type": "code",
   "execution_count": 1,
   "metadata": {
    "collapsed": false
   },
   "outputs": [],
   "source": [
    "import pandas as pd\n",
    "import json\n",
    "import seaborn as sns\n",
    "import matplotlib.pyplot as plt\n",
    "%matplotlib inline  "
   ]
  },
  {
   "cell_type": "code",
   "execution_count": 2,
   "metadata": {
    "collapsed": false
   },
   "outputs": [],
   "source": [
    "# read all sample tweets.\n",
    "\n",
    "with open('all_stripped_tweets.json', \"r\", encoding=\"utf-8\") as f:  \n",
    "    records=[json.loads(line) for line in f]\n",
    "    "
   ]
  },
  {
   "cell_type": "code",
   "execution_count": 3,
   "metadata": {
    "collapsed": false
   },
   "outputs": [
    {
     "data": {
      "text/plain": [
       "{'coordinates': None,\n",
       " 'place': {'attributes': {},\n",
       "  'bounding_box': {'coordinates': [[[-3.640637, 52.947131],\n",
       "     [-3.640637, 55.188879],\n",
       "     [-1.909626, 55.188879],\n",
       "     [-1.909626, 52.947131]]],\n",
       "   'type': 'Polygon'},\n",
       "  'country': 'United Kingdom',\n",
       "  'country_code': 'GB',\n",
       "  'full_name': 'North West, England',\n",
       "  'id': '0cbfb5dccb8131b8',\n",
       "  'name': 'North West',\n",
       "  'place_type': 'admin',\n",
       "  'url': 'https://api.twitter.com/1.1/geo/id/0cbfb5dccb8131b8.json'},\n",
       " 'region_id': '0_242',\n",
       " 'sentiment': {'compound': 0.807, 'neg': 0.0, 'neu': 0.611, 'pos': 0.389},\n",
       " 'text': 'Definitely shared some #wednesdaywisdom this morning at our #budget update event! thanks to @Widdop @MarkHeppell… https://t.co/dqk3y1td6t',\n",
       " 'timestamp': 1489576680,\n",
       " 'topic': None,\n",
       " 'tweet_id': 841971738292432896,\n",
       " 'user_location': 'Manchester, Stockport & London'}"
      ]
     },
     "execution_count": 3,
     "metadata": {},
     "output_type": "execute_result"
    }
   ],
   "source": [
    "# example read json of first record\n",
    "\n",
    "records[0]"
   ]
  },
  {
   "cell_type": "code",
   "execution_count": 4,
   "metadata": {
    "collapsed": false
   },
   "outputs": [],
   "source": [
    "# combine relevant details into one list\n",
    "\n",
    "data = []\n",
    "\n",
    "for i in range(0,len(records)):\n",
    "    text = records[i]['text']\n",
    "    topic = records[i]['topic']\n",
    "    comp = records[i]['sentiment']['compound']\n",
    "    pos = records[i]['sentiment']['pos']\n",
    "    neu = records[i]['sentiment']['neu']\n",
    "    neg = records[i]['sentiment']['neg']\n",
    "    \n",
    "    comb = [text,topic,comp,pos,neu,neg]\n",
    "    \n",
    "    data.append(comb)\n",
    "#print(data)"
   ]
  },
  {
   "cell_type": "code",
   "execution_count": 5,
   "metadata": {
    "collapsed": false
   },
   "outputs": [
    {
     "data": {
      "text/html": [
       "<div>\n",
       "<table border=\"1\" class=\"dataframe\">\n",
       "  <thead>\n",
       "    <tr style=\"text-align: right;\">\n",
       "      <th></th>\n",
       "      <th>text</th>\n",
       "      <th>topic</th>\n",
       "      <th>compound</th>\n",
       "      <th>positive</th>\n",
       "      <th>neutral</th>\n",
       "      <th>neg</th>\n",
       "    </tr>\n",
       "  </thead>\n",
       "  <tbody>\n",
       "    <tr>\n",
       "      <th>28410</th>\n",
       "      <td>@realDonaldTrump A NEW ERA OF AMERICAN POLLUTI...</td>\n",
       "      <td>Trump</td>\n",
       "      <td>0.0</td>\n",
       "      <td>0.0</td>\n",
       "      <td>1.0</td>\n",
       "      <td>0.0</td>\n",
       "    </tr>\n",
       "    <tr>\n",
       "      <th>28411</th>\n",
       "      <td>ya got to give it to Farage, took everything t...</td>\n",
       "      <td>British Politics</td>\n",
       "      <td>0.0</td>\n",
       "      <td>0.0</td>\n",
       "      <td>1.0</td>\n",
       "      <td>0.0</td>\n",
       "    </tr>\n",
       "    <tr>\n",
       "      <th>28412</th>\n",
       "      <td>Bonne nuit les twittos . Devant tant d'incerti...</td>\n",
       "      <td>British Politics</td>\n",
       "      <td>0.0</td>\n",
       "      <td>0.0</td>\n",
       "      <td>1.0</td>\n",
       "      <td>0.0</td>\n",
       "    </tr>\n",
       "    <tr>\n",
       "      <th>28413</th>\n",
       "      <td>@werewolf_fr @nobordersman dis toi que les 3% ...</td>\n",
       "      <td>British Politics</td>\n",
       "      <td>0.0</td>\n",
       "      <td>0.0</td>\n",
       "      <td>1.0</td>\n",
       "      <td>0.0</td>\n",
       "    </tr>\n",
       "    <tr>\n",
       "      <th>28414</th>\n",
       "      <td>My thoughts on #brexitday https://t.co/B0mj8DEOzA</td>\n",
       "      <td>British Politics</td>\n",
       "      <td>0.0</td>\n",
       "      <td>0.0</td>\n",
       "      <td>1.0</td>\n",
       "      <td>0.0</td>\n",
       "    </tr>\n",
       "  </tbody>\n",
       "</table>\n",
       "</div>"
      ],
      "text/plain": [
       "                                                    text             topic  \\\n",
       "28410  @realDonaldTrump A NEW ERA OF AMERICAN POLLUTI...             Trump   \n",
       "28411  ya got to give it to Farage, took everything t...  British Politics   \n",
       "28412  Bonne nuit les twittos . Devant tant d'incerti...  British Politics   \n",
       "28413  @werewolf_fr @nobordersman dis toi que les 3% ...  British Politics   \n",
       "28414  My thoughts on #brexitday https://t.co/B0mj8DEOzA  British Politics   \n",
       "\n",
       "       compound  positive  neutral  neg  \n",
       "28410       0.0       0.0      1.0  0.0  \n",
       "28411       0.0       0.0      1.0  0.0  \n",
       "28412       0.0       0.0      1.0  0.0  \n",
       "28413       0.0       0.0      1.0  0.0  \n",
       "28414       0.0       0.0      1.0  0.0  "
      ]
     },
     "execution_count": 5,
     "metadata": {},
     "output_type": "execute_result"
    }
   ],
   "source": [
    "# pass list to dataframe\n",
    "\n",
    "df = pd.DataFrame(data,columns=['text','topic','compound','positive','neutral','neg'])\n",
    "\n",
    "df.tail()"
   ]
  },
  {
   "cell_type": "code",
   "execution_count": 6,
   "metadata": {
    "collapsed": false
   },
   "outputs": [
    {
     "data": {
      "text/plain": [
       "array([None, 'Whisper', 'Douvan', '#wednesdaywisdom', '#celebratesuccess',\n",
       "       '#PMQs', 'NICs', 'Willoughby Court', 'Special Tiara', '#sunshine',\n",
       "       'Yahoo', 'Coral Cup', 'Cause of Causes', 'U-turn', '#Nibbies',\n",
       "       'Flying Tiger', '#PinkMatterPodcast', 'Champion Bumper',\n",
       "       '#famouslyrubbish', '#GoodNewsIn5Words', 'Monaco',\n",
       "       '#BoutiqueyWhisky', '#ASMMCI', '#BelieveItOrNotIm', 'Mbappe',\n",
       "       '#selfieforseb', '#hiddenrestaurants', '#GovePortes', 'Mendy',\n",
       "       'Bernardo Silva', 'Yaya', 'Fabinho', '#littlebigshots', 'Nunu',\n",
       "       'Sterling', 'Aguero', '#weddinghour', '#Benidorm', 'Man City',\n",
       "       'Champions League', '#bkchatldn', '#manonthemoor', 'De Bruyne',\n",
       "       '#Dutchvote', 'Hawaii', 'Djokovic', '#NolanLIVE',\n",
       "       '#TurkishAirlinesHelpSomalia', 'Nadal', '#BeforeTheInternetExisted',\n",
       "       '#ThursdayThoughts', '#IndvAus', 'Electoral Commission', 'PM Rutte',\n",
       "       '#BBCSchoolReport', '#NetherlandsElections', 'Conservative Party',\n",
       "       'Dominic Raab', '#medicine2017', 'Adam Johnson', '£240m in UK',\n",
       "       'Aitor Karanka', 'Operation London Bridge', 'Brexit Bill',\n",
       "       'Royal Assent', '#FMQs', 'Ben Woodburn', 'Grasse', \"Paul O'Grady\",\n",
       "       'The Queen', 'Pascal Lamy', 'Yorkhill', 'Jermain Defoe',\n",
       "       'Top Notch', '#SITT2017', 'Pertemps', 'Presenting Percy', 'Karanka',\n",
       "       'Un De Sceaux', 'Stayers', 'Lil Rockerfeller', 'Blind Date',\n",
       "       'Nichols Canyon', 'Clare Waight Keller', 'Road To Respect',\n",
       "       \"Let's Dance\", 'Plan for Britain', 'Etna', 'Glastonbury', '#GBBO',\n",
       "       'Mount Etna', 'Domesday Book', '#LuxTravelChat', '#MyLuckyCharmIs',\n",
       "       'Besiktas', '#MakeAMovieIrish', '#CKG17', '#totp',\n",
       "       '#prmomentawards', '#ThistleAwards', '#potterythrowdown', 'Rostov',\n",
       "       '#SLLeiWar', 'Di Maria', 'Mkhitaryan', '#ShopWellForLess',\n",
       "       '#supervet', 'Mata', 'Harry Hill', 'Robbie Savage', 'Barney',\n",
       "       '#BNTM', 'Old Trafford', 'Phil Jones', '#TheLastKingdom',\n",
       "       'Ashley Young', 'Romero', 'Marcos Rojo', 'Europa League',\n",
       "       '#ReleaseTheHounds', '#ExtremelyBritishMuslims', 'Michael Owen',\n",
       "       '#bbcqt', 'Sonic Forces', '#questiontime', 'Juan Mata', 'Roy Keane',\n",
       "       '#WillNeverGoOutOfStyle', 'Rick Ross', 'Quality Control 2.0',\n",
       "       '#JaprilTheSequel', 'GCHQ', 'Ajax', '#GCHQ', '#MakeASongIrish',\n",
       "       'Auckland', '#FridayFeeling', '#StPatricksDay', '#GoldCup',\n",
       "       '#SNP17', 'Liam Payne', \"Britain's GCHQ\", '#WorldSleepDay',\n",
       "       '#gigeconomy', \"St George's Day\", '#FlashbackFriday',\n",
       "       'Half of English', 'Runaway New Zealand', \"St Paddy's Day\",\n",
       "       '#ldinsight', 'John Swinney', 'Kasabian',\n",
       "       \"You're in Love With a Psycho\", 'Panmure Gordon', 'Mark Hughes',\n",
       "       'Bushmills', 'Marian Keyes', 'Happy St Paddys', 'Josie Cunningham',\n",
       "       '#UCLdraw', 'Dortmund v Monaco', 'George Osborne', 'BlackRock',\n",
       "       'Dortmund vs Monaco', 'Angus Robertson', 'Anderlecht',\n",
       "       'Defi Du Seuil', 'County Hurdle', 'Arctic Fire', 'Death Duty',\n",
       "       'Derek Walcott', 'Sizing John', 'Cue Card', 'Pacha Du Polder',\n",
       "       'Champagne Classic', 'Merkel', '#GeorgeOsborne', 'Paige',\n",
       "       '#HollyoaksConsent', '#StreetGigs', '#ldconf', '#bbcaq',\n",
       "       'Bristol City', '#Gogglebox', '#wildireland', '#isitok',\n",
       "       'Rich Hall', 'Get Out', 'Iron Fist', '#LoseASongsTrainOfThought',\n",
       "       'Angela Merkel', 'Conlan', '#RightThenIKnew', 'Guinness',\n",
       "       'Gordon Brown', '#saturdaymorning', 'Paris Orly', 'Uttoxeter',\n",
       "       '#IrevEng', '#WBAARS', '#SCOvITA', 'West Brom', 'Sanchez', 'Xhaka',\n",
       "       'Ospina', 'Arsenal Fan TV', 'Wenger', '#FRAvWAL', 'Jamie Redknapp',\n",
       "       '#WHULEI', 'Sagan', 'Stoke', '#ScottishAFilm', '#UFCLondon',\n",
       "       '#SaturdayNightTakeaway', 'Wayne Barnes', '#lufc', '#thevoice',\n",
       "       '#TheVoiceUK', 'Chuck Berry', '#MoreLife', '#thevoiceuk', 'Drake',\n",
       "       '#MOTD', 'Giggs', 'Kanye', 'Gyalchester', 'Gonzalez', '#GGGJacobs',\n",
       "       'Golovkin', 'Jacobs', 'Canelo', '#SundayMorning',\n",
       "       '#ShakespeareSunday', 'Roll', 'John Major', '#marr', '#Peston',\n",
       "       '#ridge', 'Nick Cohen', 'Sunday Supplement', '#bbcsp', 'Valdes',\n",
       "       '#MIDMUN', 'Fellaini', 'Lingard', 'Middlesbrough', 'Boro',\n",
       "       'Valencia', '#TOTSOU', 'Eriksen', 'Michael Oliver', 'Toure',\n",
       "       'Milner', 'Etihad', '#MCILIV', 'Firmino', '#PutSauceIntoMusic',\n",
       "       'Coutinho', 'Lallana', 'Yaya Toure', '#bigpaintingchallenge',\n",
       "       '#forgotten80s', '#5goldrings', '#countryfile', '#RobotWars',\n",
       "       '#Vera', '#TopGear', '#antiquesroadshow', '#YouTubeIsOverParty',\n",
       "       '#IBIZAWEEKENDER', '#ssgb', 'Ryan McBride', 'Amber', 'eUnited',\n",
       "       '#bovinebeats', '#mondaymotivation', '#InternationalDayOfHappiness',\n",
       "       '#springequinox', 'Tom Watson', 'Dame Vera Lynn', '#MondayMorning',\n",
       "       '#WorstSongsToPlayAtAFuneral', 'Article 50', '#bbcdp',\n",
       "       'Sesame Street', 'Comey', '#ComeyHearing', 'David Rockefeller',\n",
       "       'Leg Lock Luke', '#TheChase', '#northeasthour', '#MadeInChelsea',\n",
       "       '#Crimewatch', '#TheWalkingDeadUK', '#crimewatch', '#broadchurch',\n",
       "       'George Clooney', 'Paul Heatley', 'Tomi Lahren', '70 MPs',\n",
       "       'US-bound', '#LeGrandDebat', 'Sami', 'Jericho', '#SDLive',\n",
       "       'Martin McGuinness', '#TuesdayMotivation', '#WorldPoetryDay',\n",
       "       'Taker', '#WSWD17', '#snow', '#MoviesThatStink', 'Ken Livingstone',\n",
       "       '#WDSD17', 'George Galloway', '#TravelTuesday', '2.3% in February',\n",
       "       '#charitytuesday', 'Minella Rocco', '#IntlForestDay',\n",
       "       '#nationalfragranceday', 'Colin Dexter', 'Wayne Rooney',\n",
       "       'Willie Rennie', 'Patrick Harvie', 'Anas Sarwar', 'Alex Rowley',\n",
       "       'Neil Findlay', '#RSD17', 'Trump', 'British Politics', '#WEDay',\n",
       "       'Ronnie Moran', '#TechNation', 'Television', '#worldwaterday',\n",
       "       'Princess Anne', 'Technology', 'NHS', 'John Derrick', 'Sports',\n",
       "       'French Election', 'Barry Bennell', '#SgtPepper50', 'Events',\n",
       "       'Thames Water', 'Russia', 'Liz Truss', 'Elias Kachunga',\n",
       "       'Bramall Lane', 'Houses of Parliament', 'Shana Grice',\n",
       "       'Westminster', 'House of Commons', 'Portcullis House',\n",
       "       '#BrookSpence', 'Celebrities', '#BreakingNews', 'Parliament',\n",
       "       '#LondonAttack', '#PrayForLondon', 'Brussels', 'Death Note',\n",
       "       'Kay Burley', 'Tommy Robinson', '#WeAreNotAfraid', 'Tobias Ellwood',\n",
       "       '#Westminster', 'Police Officer', 'Big Ben', '#famouslyworking',\n",
       "       'Abu Izzadeen', '#wtm17', '#GERENG', '#PrayForTheWorld', 'Muslims',\n",
       "       'Lee Dixon', '#wmmayor', 'Podolski', 'Channel 4 News',\n",
       "       'Fraser Aird', 'Dele Alli', 'Joe Hart', 'Glenn Hoddle', '#SCOCAN',\n",
       "       '#diysos', 'Canada', 'PC Keith Palmer', '#SpiderManHomecoming',\n",
       "       'Ruth Davidson', '#poundcoin', '#legsit', 'Lionel Messi', '#nb2017',\n",
       "       'Kath Cassidy', 'Jonathan Woodgate', 'Adam Lallana', 'Murdo Fraser',\n",
       "       'Scottish Parliament', 'Being Mum & Dad', '#bbcpm',\n",
       "       '#SomebodyPleaseInvent', '#WriteTheArticle50Letter', '#brexiteve',\n",
       "       'Michelle', '#stargazinglive', 'France v Spain', '#MartinLewis',\n",
       "       '#HolbyCity', '#BeingMumAndDad', '#FRAESP', 'Kante', '#mutiny',\n",
       "       'Argentina', 'Bolivia', '#GeordieShore', '#BrexitEve', '#Newsnight',\n",
       "       'Smackdown', '#BonesFinale', 'Daily Mail', '#Article50',\n",
       "       '#BrexitDay', '#DumberBroadway', '#NotInMyName', 'Andy Coulson',\n",
       "       'Philip Hammond', 'Donald Tusk', '#PianoDay', 'Cristiano Ronaldo',\n",
       "       'Blac Chyna', '#ThatLettersNoMine', 'Rufus Norris', '#d2dfest',\n",
       "       'Jacob Rees-Mogg', 'St Pancras', '#jiscexperts17',\n",
       "       '#MakeLoveOnVEVO', 'Niall Quinn', '#UnboxYourPhone',\n",
       "       'Lust For Life', 'Persona 5', 'Erik Lamela', '#BiTwitter',\n",
       "       '#itmovie', 'Samsung', '#GalaxyS8', 'Alum Rock', 'Ronaldo',\n",
       "       'Andrew Neil', '#BrexitWhatNext', '#GardenTunes', '#masterchef',\n",
       "       'Halep', 'Gordon Brewer', '#BKChatLDN', 'Caernarfon Bay',\n",
       "       'Irish Sea', 'Morton'], dtype=object)"
      ]
     },
     "execution_count": 6,
     "metadata": {},
     "output_type": "execute_result"
    }
   ],
   "source": [
    "# nparray of unique topics\n",
    "\n",
    "df.topic.unique()"
   ]
  },
  {
   "cell_type": "code",
   "execution_count": 7,
   "metadata": {
    "collapsed": false
   },
   "outputs": [
    {
     "data": {
      "text/html": [
       "<div>\n",
       "<table border=\"1\" class=\"dataframe\">\n",
       "  <thead>\n",
       "    <tr style=\"text-align: right;\">\n",
       "      <th></th>\n",
       "      <th>text</th>\n",
       "    </tr>\n",
       "    <tr>\n",
       "      <th>topic</th>\n",
       "      <th></th>\n",
       "    </tr>\n",
       "  </thead>\n",
       "  <tbody>\n",
       "    <tr>\n",
       "      <th>British Politics</th>\n",
       "      <td>8122</td>\n",
       "    </tr>\n",
       "    <tr>\n",
       "      <th>Westminster</th>\n",
       "      <td>2818</td>\n",
       "    </tr>\n",
       "    <tr>\n",
       "      <th>#Westminster</th>\n",
       "      <td>2503</td>\n",
       "    </tr>\n",
       "    <tr>\n",
       "      <th>#StPatricksDay</th>\n",
       "      <td>2019</td>\n",
       "    </tr>\n",
       "    <tr>\n",
       "      <th>#GERENG</th>\n",
       "      <td>964</td>\n",
       "    </tr>\n",
       "  </tbody>\n",
       "</table>\n",
       "</div>"
      ],
      "text/plain": [
       "                  text\n",
       "topic                 \n",
       "British Politics  8122\n",
       "Westminster       2818\n",
       "#Westminster      2503\n",
       "#StPatricksDay    2019\n",
       "#GERENG            964"
      ]
     },
     "execution_count": 7,
     "metadata": {},
     "output_type": "execute_result"
    }
   ],
   "source": [
    "# find the count of tweets per topic\n",
    "\n",
    "df2 = df.groupby(by=\"topic\").count()\n",
    "df2 = df2.drop(['compound','positive','neutral','neg'],axis =1)\n",
    "df2 = df2.sort_values('text',ascending=False)\n",
    "df2.head()"
   ]
  },
  {
   "cell_type": "code",
   "execution_count": 8,
   "metadata": {
    "collapsed": false
   },
   "outputs": [
    {
     "name": "stdout",
     "output_type": "stream",
     "text": [
      "\n",
      "Total Number of topics: \n",
      " 459\n"
     ]
    },
    {
     "name": "stderr",
     "output_type": "stream",
     "text": [
      "/home/benjamin/anaconda3/lib/python3.6/site-packages/statsmodels/nonparametric/kdetools.py:20: VisibleDeprecationWarning: using a non-integer number instead of an integer will result in an error in the future\n",
      "  y = X[:m/2+1] + np.r_[0,X[m/2+1:],0]*1j\n"
     ]
    },
    {
     "data": {
      "text/plain": [
       "<matplotlib.axes._subplots.AxesSubplot at 0x7ff67b6ce048>"
      ]
     },
     "execution_count": 8,
     "metadata": {},
     "output_type": "execute_result"
    },
    {
     "data": {
      "image/png": "[encoded data removed]",
      "text/plain": [
       "<matplotlib.figure.Figure at 0x7ff67b6be908>"
      ]
     },
     "metadata": {},
     "output_type": "display_data"
    }
   ],
   "source": [
    "# Whats the distribution of tweets per topic\n",
    "\n",
    "print(\"\\nTotal Number of topics: \\n\",len(df2))\n",
    "\n",
    "# df2.plot.hist(df2)\n",
    "sns.distplot(df2)"
   ]
  },
  {
   "cell_type": "code",
   "execution_count": 9,
   "metadata": {
    "collapsed": false
   },
   "outputs": [
    {
     "name": "stdout",
     "output_type": "stream",
     "text": [
      "\n",
      "Total number of topics with >300 tweets: \n",
      "12 \n",
      "\n"
     ]
    },
    {
     "name": "stderr",
     "output_type": "stream",
     "text": [
      "/home/benjamin/anaconda3/lib/python3.6/site-packages/statsmodels/nonparametric/kdetools.py:20: VisibleDeprecationWarning: using a non-integer number instead of an integer will result in an error in the future\n",
      "  y = X[:m/2+1] + np.r_[0,X[m/2+1:],0]*1j\n"
     ]
    },
    {
     "data": {
      "image/png": "[encoded data removed]",
      "text/plain": [
       "<matplotlib.figure.Figure at 0x7ff677f24198>"
      ]
     },
     "metadata": {},
     "output_type": "display_data"
    }
   ],
   "source": [
    "# The histogram highlights of topics are 1 tweet/ topic - we need to strip these out by setting a min threshold\n",
    "# no reason for 300\n",
    "\n",
    "lim = 300\n",
    "\n",
    "df_2 = df2[df2['text']>lim]\n",
    "\n",
    "#df_2.plot.hist(df_2)\n",
    "sns.distplot(df_2,bins=30)\n",
    "sns.plt.xlim(0)\n",
    "\n",
    "print(\"\\nTotal number of topics with >%d tweets: \\n%d \\n\"%(lim, len(df_2)))"
   ]
  },
  {
   "cell_type": "markdown",
   "metadata": {},
   "source": [
    "\n",
    "\n",
    "\n",
    "We can see there are only 12 topics which breach the threshold of 300.\n",
    "\n",
    "We shall now review the distribution of overall compound scores, before reviewing these 12 topics.\n"
   ]
  },
  {
   "cell_type": "code",
   "execution_count": 10,
   "metadata": {
    "collapsed": false
   },
   "outputs": [
    {
     "name": "stderr",
     "output_type": "stream",
     "text": [
      "/home/benjamin/anaconda3/lib/python3.6/site-packages/statsmodels/nonparametric/kdetools.py:20: VisibleDeprecationWarning: using a non-integer number instead of an integer will result in an error in the future\n",
      "  y = X[:m/2+1] + np.r_[0,X[m/2+1:],0]*1j\n"
     ]
    },
    {
     "data": {
      "text/plain": [
       "15637   -0.9690\n",
       "16039   -0.9686\n",
       "20554   -0.9659\n",
       "20857   -0.9648\n",
       "14991   -0.9648\n",
       "Name: compound, dtype: float64"
      ]
     },
     "execution_count": 10,
     "metadata": {},
     "output_type": "execute_result"
    },
    {
     "data": {
      "image/png": "[encoded data removed]",
      "text/plain": [
       "<matplotlib.figure.Figure at 0x7ff677d8df60>"
      ]
     },
     "metadata": {},
     "output_type": "display_data"
    }
   ],
   "source": [
    "# histogram of all compound scores\n",
    "\n",
    "df_hist = df['compound'].sort_values()\n",
    "#df_hist.plot.hist(df_hist)\n",
    "sns.distplot(df_hist,bins=30)\n",
    "df_hist.head()"
   ]
  },
  {
   "cell_type": "code",
   "execution_count": 11,
   "metadata": {
    "collapsed": false
   },
   "outputs": [
    {
     "data": {
      "text/plain": [
       "text        10176\n",
       "topic       10096\n",
       "compound    10176\n",
       "positive    10176\n",
       "neutral     10176\n",
       "neg         10176\n",
       "dtype: int64"
      ]
     },
     "execution_count": 11,
     "metadata": {},
     "output_type": "execute_result"
    }
   ],
   "source": [
    "# An error is appearing, so check a count of the zero scores\n",
    "\n",
    "df_var = df[df['compound']==0]\n",
    "df_var.count()\n"
   ]
  },
  {
   "cell_type": "code",
   "execution_count": 12,
   "metadata": {
    "collapsed": false
   },
   "outputs": [
    {
     "data": {
      "text/html": [
       "<div>\n",
       "<table border=\"1\" class=\"dataframe\">\n",
       "  <thead>\n",
       "    <tr style=\"text-align: right;\">\n",
       "      <th></th>\n",
       "      <th>text</th>\n",
       "      <th>topic</th>\n",
       "      <th>compound</th>\n",
       "      <th>positive</th>\n",
       "      <th>neutral</th>\n",
       "      <th>neg</th>\n",
       "    </tr>\n",
       "  </thead>\n",
       "  <tbody>\n",
       "    <tr>\n",
       "      <th>0</th>\n",
       "      <td>Definitely shared some #wednesdaywisdom this m...</td>\n",
       "      <td>None</td>\n",
       "      <td>0.8070</td>\n",
       "      <td>0.389</td>\n",
       "      <td>0.611</td>\n",
       "      <td>0.0</td>\n",
       "    </tr>\n",
       "    <tr>\n",
       "      <th>1</th>\n",
       "      <td>Hope everyone supports this  #BeKind</td>\n",
       "      <td>None</td>\n",
       "      <td>0.6597</td>\n",
       "      <td>0.643</td>\n",
       "      <td>0.357</td>\n",
       "      <td>0.0</td>\n",
       "    </tr>\n",
       "    <tr>\n",
       "      <th>2</th>\n",
       "      <td>#wednesdaywisdom #thismorning #BeKind The smal...</td>\n",
       "      <td>None</td>\n",
       "      <td>0.4019</td>\n",
       "      <td>0.162</td>\n",
       "      <td>0.838</td>\n",
       "      <td>0.0</td>\n",
       "    </tr>\n",
       "    <tr>\n",
       "      <th>4</th>\n",
       "      <td>Motto for David Davis \"He Who Dares Wins\" This...</td>\n",
       "      <td>None</td>\n",
       "      <td>0.9042</td>\n",
       "      <td>0.359</td>\n",
       "      <td>0.641</td>\n",
       "      <td>0.0</td>\n",
       "    </tr>\n",
       "    <tr>\n",
       "      <th>7</th>\n",
       "      <td>@eddwilson @IanDunt To be fair David Davis doe...</td>\n",
       "      <td>None</td>\n",
       "      <td>0.3182</td>\n",
       "      <td>0.141</td>\n",
       "      <td>0.859</td>\n",
       "      <td>0.0</td>\n",
       "    </tr>\n",
       "  </tbody>\n",
       "</table>\n",
       "</div>"
      ],
      "text/plain": [
       "                                                text topic  compound  \\\n",
       "0  Definitely shared some #wednesdaywisdom this m...  None    0.8070   \n",
       "1               Hope everyone supports this  #BeKind  None    0.6597   \n",
       "2  #wednesdaywisdom #thismorning #BeKind The smal...  None    0.4019   \n",
       "4  Motto for David Davis \"He Who Dares Wins\" This...  None    0.9042   \n",
       "7  @eddwilson @IanDunt To be fair David Davis doe...  None    0.3182   \n",
       "\n",
       "   positive  neutral  neg  \n",
       "0     0.389    0.611  0.0  \n",
       "1     0.643    0.357  0.0  \n",
       "2     0.162    0.838  0.0  \n",
       "4     0.359    0.641  0.0  \n",
       "7     0.141    0.859  0.0  "
      ]
     },
     "execution_count": 12,
     "metadata": {},
     "output_type": "execute_result"
    }
   ],
   "source": [
    "# strip out those with a score of 0\n",
    "\n",
    "df_1 = df[df['compound']!=0]\n",
    "df_1.head()"
   ]
  },
  {
   "cell_type": "code",
   "execution_count": 13,
   "metadata": {
    "collapsed": false
   },
   "outputs": [
    {
     "data": {
      "text/plain": [
       "text        18239\n",
       "topic       18095\n",
       "compound    18239\n",
       "positive    18239\n",
       "neutral     18239\n",
       "neg         18239\n",
       "dtype: int64"
      ]
     },
     "execution_count": 13,
     "metadata": {},
     "output_type": "execute_result"
    }
   ],
   "source": [
    "# whats the count of the remaining tweets\n",
    "\n",
    "df_1.count()"
   ]
  },
  {
   "cell_type": "code",
   "execution_count": 14,
   "metadata": {
    "collapsed": false
   },
   "outputs": [
    {
     "name": "stderr",
     "output_type": "stream",
     "text": [
      "/home/benjamin/anaconda3/lib/python3.6/site-packages/statsmodels/nonparametric/kdetools.py:20: VisibleDeprecationWarning: using a non-integer number instead of an integer will result in an error in the future\n",
      "  y = X[:m/2+1] + np.r_[0,X[m/2+1:],0]*1j\n"
     ]
    },
    {
     "data": {
      "text/plain": [
       "15637   -0.9690\n",
       "16039   -0.9686\n",
       "20554   -0.9659\n",
       "20857   -0.9648\n",
       "14991   -0.9648\n",
       "Name: compound, dtype: float64"
      ]
     },
     "execution_count": 14,
     "metadata": {},
     "output_type": "execute_result"
    },
    {
     "data": {
      "image/png": "[encoded data removed]",
      "text/plain": [
       "<matplotlib.figure.Figure at 0x7ff677c31898>"
      ]
     },
     "metadata": {},
     "output_type": "display_data"
    }
   ],
   "source": [
    "# view the new set of scores\n",
    "\n",
    "df_hist_1 = df_1['compound'].sort_values()\n",
    "\n",
    "#df_hist_1.plot.hist(df_hist_1,ylim=(0,175))\n",
    "sns.distplot(df_hist_1,bins=30)\n",
    "\n",
    "df_hist_1.head()"
   ]
  },
  {
   "cell_type": "code",
   "execution_count": 15,
   "metadata": {
    "collapsed": false
   },
   "outputs": [
    {
     "data": {
      "text/plain": [
       "count    18239.000000\n",
       "mean         0.115339\n",
       "std          0.554796\n",
       "min         -0.969000\n",
       "25%         -0.424050\n",
       "50%          0.303600\n",
       "75%          0.585900\n",
       "max          0.980300\n",
       "Name: compound, dtype: float64"
      ]
     },
     "execution_count": 15,
     "metadata": {},
     "output_type": "execute_result"
    }
   ],
   "source": [
    "# retrieve the measures of central tendancy\n",
    "\n",
    "df_hist_1.describe()"
   ]
  },
  {
   "cell_type": "code",
   "execution_count": 16,
   "metadata": {
    "collapsed": false
   },
   "outputs": [
    {
     "name": "stderr",
     "output_type": "stream",
     "text": [
      "/home/benjamin/anaconda3/lib/python3.6/site-packages/ipykernel/__main__.py:9: UserWarning: Boolean Series key will be reindexed to match DataFrame index.\n"
     ]
    },
    {
     "data": {
      "text/html": [
       "<div>\n",
       "<table border=\"1\" class=\"dataframe\">\n",
       "  <thead>\n",
       "    <tr style=\"text-align: right;\">\n",
       "      <th></th>\n",
       "      <th>topic</th>\n",
       "      <th>compound</th>\n",
       "    </tr>\n",
       "  </thead>\n",
       "  <tbody>\n",
       "    <tr>\n",
       "      <th>8198</th>\n",
       "      <td>British Politics</td>\n",
       "      <td>0.4795</td>\n",
       "    </tr>\n",
       "    <tr>\n",
       "      <th>8200</th>\n",
       "      <td>British Politics</td>\n",
       "      <td>0.3167</td>\n",
       "    </tr>\n",
       "    <tr>\n",
       "      <th>8202</th>\n",
       "      <td>British Politics</td>\n",
       "      <td>0.0772</td>\n",
       "    </tr>\n",
       "    <tr>\n",
       "      <th>8204</th>\n",
       "      <td>British Politics</td>\n",
       "      <td>0.6249</td>\n",
       "    </tr>\n",
       "    <tr>\n",
       "      <th>8206</th>\n",
       "      <td>British Politics</td>\n",
       "      <td>0.6249</td>\n",
       "    </tr>\n",
       "  </tbody>\n",
       "</table>\n",
       "</div>"
      ],
      "text/plain": [
       "                 topic  compound\n",
       "8198  British Politics    0.4795\n",
       "8200  British Politics    0.3167\n",
       "8202  British Politics    0.0772\n",
       "8204  British Politics    0.6249\n",
       "8206  British Politics    0.6249"
      ]
     },
     "execution_count": 16,
     "metadata": {},
     "output_type": "execute_result"
    }
   ],
   "source": [
    "# build another dataframe of the top 12 topics and their compound scores\n",
    "\n",
    "\n",
    "topics_list = df_2.index.values.tolist()\n",
    "\n",
    "all_topics = pd.DataFrame()\n",
    "\n",
    "for topic_i in topics_list:\n",
    "    topic = df_1[df['topic']==topic_i]\n",
    "    \n",
    "    all_topics = pd.concat([all_topics,topic])\n",
    "\n",
    "#topic.head()\n",
    "\n",
    "all_topics = all_topics.drop(['text','positive','neutral','neg'],axis =1)\n",
    "all_topics.head()"
   ]
  },
  {
   "cell_type": "code",
   "execution_count": 17,
   "metadata": {
    "collapsed": false
   },
   "outputs": [
    {
     "data": {
      "image/png": "[encoded data removed]",
      "text/plain": [
       "<matplotlib.figure.Figure at 0x7ff677ed5b70>"
      ]
     },
     "metadata": {},
     "output_type": "display_data"
    },
    {
     "data": {
      "text/plain": [
       "<matplotlib.figure.Figure at 0x7ff677efbc50>"
      ]
     },
     "metadata": {},
     "output_type": "display_data"
    }
   ],
   "source": [
    "sns.set(style=\"ticks\")\n",
    "sns.boxplot(data=all_topics,x=\"topic\", y=\"compound\")#, orient=\"h\");\n",
    "sns.despine(offset=10, trim=True)\n",
    "\n",
    "plt.title(\"Distribution of Compound score for the Top 12 Topics, by Tweet Count\")\n",
    "plt.xlabel('Topics', fontsize=18)\n",
    "plt.ylabel('Distribution', fontsize=16)\n",
    "plt.xticks(rotation=30)\n",
    "plt.figure(figsize=(80, 60))\n",
    "#plt.rcParams['figure.figsize']=(30,30)\n",
    "plt.show();\n",
    "\n"
   ]
  },
  {
   "cell_type": "code",
   "execution_count": 18,
   "metadata": {
    "collapsed": false
   },
   "outputs": [
    {
     "data": {
      "text/plain": [
       "28415"
      ]
     },
     "execution_count": 18,
     "metadata": {},
     "output_type": "execute_result"
    }
   ],
   "source": [
    "len(df)"
   ]
  },
  {
   "cell_type": "code",
   "execution_count": 19,
   "metadata": {
    "collapsed": true
   },
   "outputs": [],
   "source": [
    "from random import randint"
   ]
  },
  {
   "cell_type": "code",
   "execution_count": 20,
   "metadata": {
    "collapsed": false
   },
   "outputs": [
    {
     "data": {
      "text/plain": [
       "[12678, 5261, 16053]"
      ]
     },
     "execution_count": 20,
     "metadata": {},
     "output_type": "execute_result"
    }
   ],
   "source": [
    "random_list = []\n",
    "\n",
    "for i in range(0,100):\n",
    "    random_list.append(randint(1,len(df)))\n",
    "    \n",
    "random_list[:3]"
   ]
  },
  {
   "cell_type": "code",
   "execution_count": 21,
   "metadata": {
    "collapsed": false
   },
   "outputs": [
    {
     "data": {
      "text/html": [
       "<div>\n",
       "<table border=\"1\" class=\"dataframe\">\n",
       "  <thead>\n",
       "    <tr style=\"text-align: right;\">\n",
       "      <th></th>\n",
       "      <th>text</th>\n",
       "      <th>topic</th>\n",
       "      <th>compound</th>\n",
       "      <th>positive</th>\n",
       "      <th>neutral</th>\n",
       "      <th>neg</th>\n",
       "    </tr>\n",
       "  </thead>\n",
       "  <tbody>\n",
       "    <tr>\n",
       "      <th>12678</th>\n",
       "      <td>Everything that is wrong with modern society i...</td>\n",
       "      <td>Westminster</td>\n",
       "      <td>-0.7579</td>\n",
       "      <td>0.0</td>\n",
       "      <td>0.711</td>\n",
       "      <td>0.289</td>\n",
       "    </tr>\n",
       "    <tr>\n",
       "      <th>5261</th>\n",
       "      <td>@Super6 Roy Keane does not 😉</td>\n",
       "      <td>Roy Keane</td>\n",
       "      <td>0.0000</td>\n",
       "      <td>0.0</td>\n",
       "      <td>1.000</td>\n",
       "      <td>0.000</td>\n",
       "    </tr>\n",
       "    <tr>\n",
       "      <th>16053</th>\n",
       "      <td>Buzzing for GM's reunion this weekend 👅💃👭 @lis...</td>\n",
       "      <td>British Politics</td>\n",
       "      <td>0.0000</td>\n",
       "      <td>0.0</td>\n",
       "      <td>1.000</td>\n",
       "      <td>0.000</td>\n",
       "    </tr>\n",
       "    <tr>\n",
       "      <th>19657</th>\n",
       "      <td>Typical England we go a goal behind and it's p...</td>\n",
       "      <td>#GERENG</td>\n",
       "      <td>-0.5106</td>\n",
       "      <td>0.0</td>\n",
       "      <td>0.752</td>\n",
       "      <td>0.248</td>\n",
       "    </tr>\n",
       "    <tr>\n",
       "      <th>22218</th>\n",
       "      <td>This massive hover fly is a wasp parasite!  #T...</td>\n",
       "      <td>British Politics</td>\n",
       "      <td>0.0000</td>\n",
       "      <td>0.0</td>\n",
       "      <td>1.000</td>\n",
       "      <td>0.000</td>\n",
       "    </tr>\n",
       "  </tbody>\n",
       "</table>\n",
       "</div>"
      ],
      "text/plain": [
       "                                                    text             topic  \\\n",
       "12678  Everything that is wrong with modern society i...       Westminster   \n",
       "5261                        @Super6 Roy Keane does not 😉         Roy Keane   \n",
       "16053  Buzzing for GM's reunion this weekend 👅💃👭 @lis...  British Politics   \n",
       "19657  Typical England we go a goal behind and it's p...           #GERENG   \n",
       "22218  This massive hover fly is a wasp parasite!  #T...  British Politics   \n",
       "\n",
       "       compound  positive  neutral    neg  \n",
       "12678   -0.7579       0.0    0.711  0.289  \n",
       "5261     0.0000       0.0    1.000  0.000  \n",
       "16053    0.0000       0.0    1.000  0.000  \n",
       "19657   -0.5106       0.0    0.752  0.248  \n",
       "22218    0.0000       0.0    1.000  0.000  "
      ]
     },
     "execution_count": 21,
     "metadata": {},
     "output_type": "execute_result"
    }
   ],
   "source": [
    "\n",
    "\n",
    "df_rand = df.iloc[random_list]\n",
    "\n",
    "df_rand.head()\n",
    "\n",
    "#len(df_rand)"
   ]
  },
  {
   "cell_type": "code",
   "execution_count": 22,
   "metadata": {
    "collapsed": false
   },
   "outputs": [],
   "source": [
    "\n",
    "df_rand.to_csv('random_tweets.csv')\n",
    "\n"
   ]
  },
  {
   "cell_type": "code",
   "execution_count": 23,
   "metadata": {
    "collapsed": false
   },
   "outputs": [
    {
     "name": "stderr",
     "output_type": "stream",
     "text": [
      "/home/benjamin/anaconda3/lib/python3.6/site-packages/nltk/twitter/__init__.py:20: UserWarning: The twython library has not been installed. Some functionality from the twitter package will not be available.\n",
      "  warnings.warn(\"The twython library has not been installed. \"\n"
     ]
    }
   ],
   "source": [
    "from nltk.sentiment.vader import SentimentIntensityAnalyzer\n",
    "\n",
    "sid = SentimentIntensityAnalyzer()"
   ]
  },
  {
   "cell_type": "code",
   "execution_count": 24,
   "metadata": {
    "collapsed": false
   },
   "outputs": [
    {
     "data": {
      "text/plain": [
       "{'compound': 0.0, 'neg': 0.0, 'neu': 1.0, 'pos': 0.0}"
      ]
     },
     "execution_count": 24,
     "metadata": {},
     "output_type": "execute_result"
    }
   ],
   "source": [
    "text_test = df_rand.iloc[1][0]\n",
    "\n",
    "ss = sid.polarity_scores(text_test)\n",
    "\n",
    "ss"
   ]
  },
  {
   "cell_type": "code",
   "execution_count": 25,
   "metadata": {
    "collapsed": false
   },
   "outputs": [
    {
     "name": "stderr",
     "output_type": "stream",
     "text": [
      "/home/benjamin/anaconda3/lib/python3.6/site-packages/statsmodels/nonparametric/kdetools.py:20: VisibleDeprecationWarning: using a non-integer number instead of an integer will result in an error in the future\n",
      "  y = X[:m/2+1] + np.r_[0,X[m/2+1:],0]*1j\n"
     ]
    },
    {
     "name": "stdout",
     "output_type": "stream",
     "text": [
      "\n",
      "Total number of topics with >10 tweets: \n",
      "290 \n",
      "\n"
     ]
    },
    {
     "data": {
      "image/png": "[encoded data removed]",
      "text/plain": [
       "<matplotlib.figure.Figure at 0x7ff67252dcc0>"
      ]
     },
     "metadata": {},
     "output_type": "display_data"
    }
   ],
   "source": [
    "# The histogram highlights of topics are 1 tweet/ topic - we need to strip these out by setting a min threshold\n",
    "# no reason for 300\n",
    "\n",
    "lim = 10\n",
    "\n",
    "df_min = df2[df2['text']<lim]\n",
    "\n",
    "#df_2.plot.hist(df_2)\n",
    "sns.distplot(df_min,bins=1)\n",
    "sns.plt.xlim(0)\n",
    "\n",
    "print(\"\\nTotal number of topics with >%d tweets: \\n%d \\n\"%(lim, len(df_min)))"
   ]
  },
  {
   "cell_type": "code",
   "execution_count": null,
   "metadata": {
    "collapsed": true
   },
   "outputs": [],
   "source": []
  },
  {
   "cell_type": "code",
   "execution_count": null,
   "metadata": {
    "collapsed": true
   },
   "outputs": [],
   "source": []
  },
  {
   "cell_type": "code",
   "execution_count": null,
   "metadata": {
    "collapsed": true
   },
   "outputs": [],
   "source": []
  },
  {
   "cell_type": "code",
   "execution_count": null,
   "metadata": {
    "collapsed": true
   },
   "outputs": [],
   "source": []
  },
  {
   "cell_type": "code",
   "execution_count": null,
   "metadata": {
    "collapsed": true
   },
   "outputs": [],
   "source": []
  }
 ],
 "metadata": {
  "kernelspec": {
   "display_name": "Python 3",
   "language": "python",
   "name": "python3"
  },
  "language_info": {
   "codemirror_mode": {
    "name": "ipython",
    "version": 3
   },
   "file_extension": ".py",
   "mimetype": "text/x-python",
   "name": "python",
   "nbconvert_exporter": "python",
   "pygments_lexer": "ipython3",
   "version": "3.6.0"
  }
 },
 "nbformat": 4,
 "nbformat_minor": 2
}
